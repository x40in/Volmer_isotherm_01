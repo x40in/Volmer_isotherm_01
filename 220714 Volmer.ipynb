{
 "cells": [
  {
   "cell_type": "markdown",
   "metadata": {},
   "source": [
    "# Моделирование влияния внешних факторов на вид $\\pi$-A изотермы сжатия двумерного газа\n",
    "\n",
    "Alexander Sorokin, Ivanovo, Russia; <a href = \"mailto:a40in@mail.ru\">a40in@mail.ru</a>. <font size=-1>July 26th, 2022</font>\n",
    "\n",
    "**Simulation of pressure-area isotherm of 2D gas under external influence**\n",
    "\n",
    "<font size=-1>A Volmer-type pressure-area isotherm in the presence of noise, zero shift and zero drift at varying temperature is modeled to understand how these factors affect the appearance of the isotherm.</font>\n",
    "\n",
    "Частным случаем изотермы сжатия реального двумерного газа является изотерма, описываемая уравнением Фольмера (изотерма Фольмера). Анализ изотермы, полученной в эксперименте, с использованием этого уравнения дает возможность определять параметры двумерного газа и применяется на практике. В реальном измерении получаемые данные искажаются шумом (собственным шумом датчика поверхностного давления, внешней вибрацией и т.п.); сдвигом нуля датчика, который может меняться в ходе записи изотермы; непостоянством температуры; другими факторами.\n",
    "\n",
    "Здесь моделируется изотерма Фольмера, искаженная рядом указанных факторов. Генерируется массив данных, соответствующих изотерме Фольмера при 298 К (идеальная изотерма). Затем к этой идеальной изотерме добавляются помехи (шум, постоянный сдвиг нуля, линейно изменяющийся сдвиг нуля), меняется температура (формируется реальная изотерма). Идеальная и реальная изотермы отображаются на одном графике. Модель создана для того, чтобы понять, как различные факторы влияют на вид реальной изотермы Фольмера.\n",
    "\n",
    "В плане программирования эта работа представляет пример создания в Jupyter Notebook интерактивного графика. Данные, отображаемые на графике, вычисляются по некоторой формуле. Значения параметров в этой формуле можно менять, используя визуальные элементы управления и мышь (вместо ручного ввода с клавиатуры)."
   ]
  },
  {
   "cell_type": "markdown",
   "metadata": {},
   "source": [
    "IDEAL GAS\n",
    "\n",
    "$ \\pi S =\\nu RT $ \n",
    "\n",
    "$ \\pi S (\\pi) $ is constant ($ \\pi S$ is independent of $\\pi$. At 1 nanomole, 300 K $ \\pi S = 2.5 \\: \\mu J$, in other words, $S = 25\\:cm^2$ at $1\\:mN/m, 2.5\\:cm^2$ at $10\\:mN/m)$.\n",
    "\n",
    "VOLMER GAS\n",
    "\n",
    "$ \\pi(S-S_0)=\\nu RT $\n",
    "\n",
    "$ S_0 = \\xi_0N = \\xi_0 \\nu N_A $\n",
    "\n",
    "$ \\pi S = \\nu RT + \\pi \\xi_0 \\nu N_A  $\n",
    "\n",
    "$ \\pi S (\\pi) $ should be linear, $ y = ax + b $, with the slope $ a = \\xi_0 \\nu N_A $ and vertical shift $ b = \\nu RT \\:(=2.5\\:\\mu J$ at 1 nmole, $300 \\: K$)\n",
    "\n",
    "A possible alternative is to plot $ \\frac{\\pi S}{RT} $ vs $ \\pi$: $\\frac{\\pi S}{RT} = \\nu + \\nu\\frac{\\xi_0}{kT}\\pi$\n",
    "\n",
    "REAL GAS\n",
    "\n",
    "$ (\\pi - \\frac{\\alpha}{S^2})(S-S_0)=\\nu RT $"
   ]
  },
  {
   "cell_type": "code",
   "execution_count": 3,
   "metadata": {
    "code_folding": []
   },
   "outputs": [
    {
     "data": {
      "application/vnd.jupyter.widget-view+json": {
       "model_id": "d52b04b0994a471e97d74120c62ed2d6",
       "version_major": 2,
       "version_minor": 0
      },
      "text/plain": [
       "Canvas(toolbar=Toolbar(toolitems=[('Home', 'Reset original view', 'home', 'home'), ('Back', 'Back to previous …"
      ]
     },
     "metadata": {},
     "output_type": "display_data"
    },
    {
     "data": {
      "application/vnd.jupyter.widget-view+json": {
       "model_id": "761b0523bbcd4d84a263f1653917c80a",
       "version_major": 2,
       "version_minor": 0
      },
      "text/plain": [
       "VBox(children=(IntSlider(value=298, continuous_update=False, description='Temperature ', max=323, min=273), Fl…"
      ]
     },
     "metadata": {},
     "output_type": "display_data"
    }
   ],
   "source": [
    "# КОД \n",
    "\n",
    "import numpy as np\n",
    "import matplotlib.pyplot as plt\n",
    "import ipywidgets as widgets\n",
    "\n",
    "def update_plot():\n",
    "    S, pd, pdS = iso_and_volmer(tempe, noise, shift, tilto)\n",
    "    real_iso.set_xdata(S)\n",
    "    real_iso.set_ydata(pd)\n",
    "    real_volmer.set_xdata(pd)\n",
    "    real_volmer.set_ydata(pdS)\n",
    "    ax_1.relim()\n",
    "    ax_1.autoscale_view()\n",
    "    ax_2.relim()\n",
    "    ax_2.autoscale_view()\n",
    "    fig.canvas.draw()\n",
    "    \n",
    "def update_tempe(change):\n",
    "    global tempe\n",
    "    tempe = change.new\n",
    "    update_plot()\n",
    "\n",
    "def update_noise(change):\n",
    "    global noise\n",
    "    noise = change.new\n",
    "    update_plot()\n",
    "    \n",
    "def update_shift(change):\n",
    "    global shift\n",
    "    shift = change.new\n",
    "    update_plot()\n",
    "\n",
    "def update_tilto(change):\n",
    "    global tilto\n",
    "    tilto = change.new\n",
    "    update_plot()    \n",
    "    \n",
    "def iso_and_volmer(T, noise_amplitude, shift_value, shift_slope):\n",
    "    A = np.linspace(0.005, 0.1, 200)\n",
    "    slope = np.linspace(0, shift_slope, 200)\n",
    "    bias = np.random.uniform(-1*noise_amplitude, noise_amplitude, len(A)) + shift_value + slope\n",
    "    pi = 1000 * 1e-6*eta*R*T / (A - 1e-18*ksi*1e-6*eta*NA) + bias\n",
    "    piA = 1000*pi*A\n",
    "    return A, pi, piA\n",
    "\n",
    "R = 8.31 # J/(mol K)\n",
    "Temp = 273  # K\n",
    "NA = 6.02e23 # mol^-1\n",
    "eta = 0.005 # micromole\n",
    "ksi = 0.25 # nm^2\n",
    "    \n",
    "tempe = 298.\n",
    "noise = 0.\n",
    "shift = 0.\n",
    "tilto = 0.\n",
    "\n",
    "tempe_slider = widgets.IntSlider(\n",
    "               value=tempe, min=273, max=323, step=1,\n",
    "               description='Temperature ', continuous_update=False)\n",
    "\n",
    "noise_slider = widgets.FloatSlider(\n",
    "               value=noise, min=0, max=2, step=0.05,\n",
    "               description='Noise ', continuous_update=False)\n",
    "\n",
    "shift_slider = widgets.FloatSlider(\n",
    "               value=shift, min=-2, max=2, step=0.05,\n",
    "               description='Shift ', continuous_update=False)\n",
    "\n",
    "tilto_slider = widgets.FloatSlider(\n",
    "               value=tilto, min=-2, max=2, step=0.05,\n",
    "               description='Tilt ', continuous_update=False)\n",
    "\n",
    "tempe_slider.observe(update_tempe, 'value')\n",
    "noise_slider.observe(update_noise, 'value')\n",
    "shift_slider.observe(update_shift, 'value')\n",
    "tilto_slider.observe(update_tilto, 'value')\n",
    "\n",
    "%matplotlib widget\n",
    "fig = plt.figure()\n",
    "fig.set_facecolor('#e0e0e0')\n",
    "fig.canvas.header_visible = False\n",
    "fig.canvas.resizable = False\n",
    "fig.set_size_inches(9.8, 4.8) #default 6.4, 4.8\n",
    "\n",
    "ax_1 = fig.add_subplot(1, 2, 1)\n",
    "ax_1.grid()\n",
    "ax_1.set_title('Изотерма (мН/м от м$^2$)')\n",
    "ax_2 = fig.add_subplot(1, 2, 2)\n",
    "ax_2.grid()\n",
    "ax_2.set_title('График Фольмера (мкДж от мН/м)')\n",
    "\n",
    "S, pd, pdS = iso_and_volmer(298, 0, 0, 0)\n",
    "ideal_iso, = ax_1.plot(S, pd)\n",
    "ideal_volmer, = ax_2.plot(pd, pdS)\n",
    "\n",
    "S, pd, pdS = iso_and_volmer(tempe, noise, shift, 0)\n",
    "real_iso, = ax_1.plot(S, pd, \"o\", markersize = 2)\n",
    "real_volmer, = ax_2.plot(pd, pdS, \"o\", markersize = 2)\n",
    "\n",
    "widgets.VBox([tempe_slider, noise_slider, shift_slider, tilto_slider])"
   ]
  },
  {
   "cell_type": "markdown",
   "metadata": {},
   "source": [
    "**ЛИТЕРАТУРА**\n",
    "\n",
    "<ins>Физика</ins>\n",
    "\n",
    "1. E. K. Rideal. An Introduction to Surface Chemistry. 2nd ed. Cambridge, 1930 (Э. К. Райдил. Химия поверхностных явлений. Л., ОНТИ-Химтеорет, 1936).\n",
    "2. N. K. Adam. The Physics and Chemistry of Surfaces. Clarendon Press, Oxford, 1938 (Н. К. Адам. Физика и химия поверхностей. М. ОГИЗ 1947).\n",
    "3. A. Adamson. Physical Chemistry of Surfaces. Wiley 19?? (3rd ed.) (А. Адамсон. Физическая химия поверхностей. М. Мир, 1979).\n",
    "\n",
    "<ins>Программирование</ins>\n",
    "\n",
    "*Matplotlib*\n",
    "\n",
    "0. https://matplotlib.org\n",
    "1. Хорошо поданные основы https://pyprog.pro/mpl/mpl_short_guide.html и https://jenyay.net/Matplotlib/Matplotlib\n",
    "14. Пособие по Mathplotlib. https://matplotlib.org/stable/tutorials/index.html\n",
    "17. Краткое руководство по pyplot https://pyprog.pro/mpl/mpl_main_components.html\n",
    "\n",
    "*Интерактивность в юпитерианских блокнотах*\n",
    "\n",
    "1. https://habr.com/ru/post/485318/\n",
    "2. https://medium.com/nuances-of-programming/интерактивное-управление-в-jupyter-notebooks-4fd1fccb5788\n",
    "3. Jupiter Widgets (ipywidgets) https://ipywidgets.readthedocs.io/en/stable/index.html\n",
    "4. ipympl (библиотека, обеспечивающая интерактивность) https://matplotlib.org/ipympl/, особенно вот это https://matplotlib.org/ipympl/examples/full-example.html\n",
    "5. https://kapernikov.com/ipywidgets-with-matplotlib/, https://github.com/Kapernikov/ipywidgets-tutorial/blob/master/ipywidgets-tutorial.ipynb\n",
    "\n",
    "*Разметка*\n",
    "1. LaTeX https://grammarware.net/text/syutkin/MathInLaTeX.pdf\n",
    "2. Markdown https://www.markdownguide.org/basic-syntax/ "
   ]
  },
  {
   "cell_type": "code",
   "execution_count": null,
   "metadata": {},
   "outputs": [],
   "source": []
  }
 ],
 "metadata": {
  "kernelspec": {
   "display_name": "Python 3",
   "language": "python",
   "name": "python3"
  },
  "language_info": {
   "codemirror_mode": {
    "name": "ipython",
    "version": 3
   },
   "file_extension": ".py",
   "mimetype": "text/x-python",
   "name": "python",
   "nbconvert_exporter": "python",
   "pygments_lexer": "ipython3",
   "version": "3.8.5"
  }
 },
 "nbformat": 4,
 "nbformat_minor": 4
}
